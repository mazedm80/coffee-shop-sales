{
 "cells": [
  {
   "cell_type": "code",
   "execution_count": null,
   "id": "a19e5f88",
   "metadata": {},
   "outputs": [],
   "source": [
    "import pandas as pd"
   ]
  },
  {
   "cell_type": "code",
   "execution_count": null,
   "id": "5f12a342",
   "metadata": {},
   "outputs": [],
   "source": [
    "df = pd.read_excel(\"./data/Coffee Shop Sales.xlsx\")"
   ]
  }
 ],
 "metadata": {
  "kernelspec": {
   "display_name": ".env",
   "language": "python",
   "name": "python3"
  },
  "language_info": {
   "name": "python",
   "version": "3.12.3"
  }
 },
 "nbformat": 4,
 "nbformat_minor": 5
}

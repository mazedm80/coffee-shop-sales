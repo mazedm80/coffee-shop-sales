{
 "cells": [
  {
   "cell_type": "code",
   "execution_count": 3,
   "id": "a19e5f88",
   "metadata": {},
   "outputs": [],
   "source": [
    "import pandas as pd"
   ]
  },
  {
   "cell_type": "code",
   "execution_count": 35,
   "id": "5f12a342",
   "metadata": {},
   "outputs": [
    {
     "data": {
      "text/html": [
       "<div>\n",
       "<style scoped>\n",
       "    .dataframe tbody tr th:only-of-type {\n",
       "        vertical-align: middle;\n",
       "    }\n",
       "\n",
       "    .dataframe tbody tr th {\n",
       "        vertical-align: top;\n",
       "    }\n",
       "\n",
       "    .dataframe thead th {\n",
       "        text-align: right;\n",
       "    }\n",
       "</style>\n",
       "<table border=\"1\" class=\"dataframe\">\n",
       "  <thead>\n",
       "    <tr style=\"text-align: right;\">\n",
       "      <th></th>\n",
       "      <th>transaction_id</th>\n",
       "      <th>transaction_date</th>\n",
       "      <th>transaction_time</th>\n",
       "      <th>transaction_qty</th>\n",
       "      <th>store_id</th>\n",
       "      <th>store_location</th>\n",
       "      <th>product_id</th>\n",
       "      <th>unit_price</th>\n",
       "      <th>product_category</th>\n",
       "      <th>product_type</th>\n",
       "      <th>product_detail</th>\n",
       "    </tr>\n",
       "  </thead>\n",
       "  <tbody>\n",
       "    <tr>\n",
       "      <th>0</th>\n",
       "      <td>1</td>\n",
       "      <td>2023-01-01</td>\n",
       "      <td>07:06:11</td>\n",
       "      <td>2</td>\n",
       "      <td>5</td>\n",
       "      <td>Lower Manhattan</td>\n",
       "      <td>32</td>\n",
       "      <td>3.0</td>\n",
       "      <td>Coffee</td>\n",
       "      <td>Gourmet brewed coffee</td>\n",
       "      <td>Ethiopia Rg</td>\n",
       "    </tr>\n",
       "    <tr>\n",
       "      <th>1</th>\n",
       "      <td>2</td>\n",
       "      <td>2023-01-01</td>\n",
       "      <td>07:08:56</td>\n",
       "      <td>2</td>\n",
       "      <td>5</td>\n",
       "      <td>Lower Manhattan</td>\n",
       "      <td>57</td>\n",
       "      <td>3.1</td>\n",
       "      <td>Tea</td>\n",
       "      <td>Brewed Chai tea</td>\n",
       "      <td>Spicy Eye Opener Chai Lg</td>\n",
       "    </tr>\n",
       "    <tr>\n",
       "      <th>2</th>\n",
       "      <td>3</td>\n",
       "      <td>2023-01-01</td>\n",
       "      <td>07:14:04</td>\n",
       "      <td>2</td>\n",
       "      <td>5</td>\n",
       "      <td>Lower Manhattan</td>\n",
       "      <td>59</td>\n",
       "      <td>4.5</td>\n",
       "      <td>Drinking Chocolate</td>\n",
       "      <td>Hot chocolate</td>\n",
       "      <td>Dark chocolate Lg</td>\n",
       "    </tr>\n",
       "    <tr>\n",
       "      <th>3</th>\n",
       "      <td>4</td>\n",
       "      <td>2023-01-01</td>\n",
       "      <td>07:20:24</td>\n",
       "      <td>1</td>\n",
       "      <td>5</td>\n",
       "      <td>Lower Manhattan</td>\n",
       "      <td>22</td>\n",
       "      <td>2.0</td>\n",
       "      <td>Coffee</td>\n",
       "      <td>Drip coffee</td>\n",
       "      <td>Our Old Time Diner Blend Sm</td>\n",
       "    </tr>\n",
       "    <tr>\n",
       "      <th>4</th>\n",
       "      <td>5</td>\n",
       "      <td>2023-01-01</td>\n",
       "      <td>07:22:41</td>\n",
       "      <td>2</td>\n",
       "      <td>5</td>\n",
       "      <td>Lower Manhattan</td>\n",
       "      <td>57</td>\n",
       "      <td>3.1</td>\n",
       "      <td>Tea</td>\n",
       "      <td>Brewed Chai tea</td>\n",
       "      <td>Spicy Eye Opener Chai Lg</td>\n",
       "    </tr>\n",
       "  </tbody>\n",
       "</table>\n",
       "</div>"
      ],
      "text/plain": [
       "   transaction_id transaction_date transaction_time  transaction_qty  \\\n",
       "0               1       2023-01-01         07:06:11                2   \n",
       "1               2       2023-01-01         07:08:56                2   \n",
       "2               3       2023-01-01         07:14:04                2   \n",
       "3               4       2023-01-01         07:20:24                1   \n",
       "4               5       2023-01-01         07:22:41                2   \n",
       "\n",
       "   store_id   store_location  product_id  unit_price    product_category  \\\n",
       "0         5  Lower Manhattan          32         3.0              Coffee   \n",
       "1         5  Lower Manhattan          57         3.1                 Tea   \n",
       "2         5  Lower Manhattan          59         4.5  Drinking Chocolate   \n",
       "3         5  Lower Manhattan          22         2.0              Coffee   \n",
       "4         5  Lower Manhattan          57         3.1                 Tea   \n",
       "\n",
       "            product_type               product_detail  \n",
       "0  Gourmet brewed coffee                  Ethiopia Rg  \n",
       "1        Brewed Chai tea     Spicy Eye Opener Chai Lg  \n",
       "2          Hot chocolate            Dark chocolate Lg  \n",
       "3            Drip coffee  Our Old Time Diner Blend Sm  \n",
       "4        Brewed Chai tea     Spicy Eye Opener Chai Lg  "
      ]
     },
     "execution_count": 35,
     "metadata": {},
     "output_type": "execute_result"
    }
   ],
   "source": [
    "# Load & Check the sales DataFrames\n",
    "df_sales = pd.read_excel(\"./data/Coffee Shop Sales.xlsx\")\n",
    "df_sales.head()"
   ]
  },
  {
   "cell_type": "code",
   "execution_count": 20,
   "id": "00243178",
   "metadata": {},
   "outputs": [
    {
     "data": {
      "text/html": [
       "<div>\n",
       "<style scoped>\n",
       "    .dataframe tbody tr th:only-of-type {\n",
       "        vertical-align: middle;\n",
       "    }\n",
       "\n",
       "    .dataframe tbody tr th {\n",
       "        vertical-align: top;\n",
       "    }\n",
       "\n",
       "    .dataframe thead th {\n",
       "        text-align: right;\n",
       "    }\n",
       "</style>\n",
       "<table border=\"1\" class=\"dataframe\">\n",
       "  <thead>\n",
       "    <tr style=\"text-align: right;\">\n",
       "      <th></th>\n",
       "      <th>station</th>\n",
       "      <th>valid</th>\n",
       "      <th>tmpc</th>\n",
       "      <th>relh</th>\n",
       "      <th>sped</th>\n",
       "      <th>p01m</th>\n",
       "    </tr>\n",
       "  </thead>\n",
       "  <tbody>\n",
       "    <tr>\n",
       "      <th>0</th>\n",
       "      <td>NYC</td>\n",
       "      <td>2023-01-01 00:06</td>\n",
       "      <td>10.0</td>\n",
       "      <td>92.80</td>\n",
       "      <td>0.00</td>\n",
       "      <td>T</td>\n",
       "    </tr>\n",
       "    <tr>\n",
       "      <th>1</th>\n",
       "      <td>NYC</td>\n",
       "      <td>2023-01-01 00:18</td>\n",
       "      <td>10.0</td>\n",
       "      <td>95.98</td>\n",
       "      <td>3.45</td>\n",
       "      <td>T</td>\n",
       "    </tr>\n",
       "    <tr>\n",
       "      <th>2</th>\n",
       "      <td>NYC</td>\n",
       "      <td>2023-01-01 00:31</td>\n",
       "      <td>10.0</td>\n",
       "      <td>92.80</td>\n",
       "      <td>0.00</td>\n",
       "      <td>0.25</td>\n",
       "    </tr>\n",
       "    <tr>\n",
       "      <th>3</th>\n",
       "      <td>NYC</td>\n",
       "      <td>2023-01-01 00:44</td>\n",
       "      <td>10.0</td>\n",
       "      <td>95.98</td>\n",
       "      <td>0.00</td>\n",
       "      <td>0.51</td>\n",
       "    </tr>\n",
       "    <tr>\n",
       "      <th>4</th>\n",
       "      <td>NYC</td>\n",
       "      <td>2023-01-01 00:49</td>\n",
       "      <td>10.0</td>\n",
       "      <td>93.50</td>\n",
       "      <td>0.00</td>\n",
       "      <td>0.51</td>\n",
       "    </tr>\n",
       "  </tbody>\n",
       "</table>\n",
       "</div>"
      ],
      "text/plain": [
       "  station             valid  tmpc   relh  sped  p01m\n",
       "0     NYC  2023-01-01 00:06  10.0  92.80  0.00     T\n",
       "1     NYC  2023-01-01 00:18  10.0  95.98  3.45     T\n",
       "2     NYC  2023-01-01 00:31  10.0  92.80  0.00  0.25\n",
       "3     NYC  2023-01-01 00:44  10.0  95.98  0.00  0.51\n",
       "4     NYC  2023-01-01 00:49  10.0  93.50  0.00  0.51"
      ]
     },
     "execution_count": 20,
     "metadata": {},
     "output_type": "execute_result"
    }
   ],
   "source": [
    "# Load & Check the weather DataFrames\n",
    "df_weather = pd.read_csv(\"./data/NYC.csv\")\n",
    "df_weather.head()"
   ]
  },
  {
   "cell_type": "code",
   "execution_count": null,
   "id": "08d42903",
   "metadata": {},
   "outputs": [
    {
     "data": {
      "text/plain": [
       "transaction_id      0\n",
       "transaction_date    0\n",
       "transaction_time    0\n",
       "transaction_qty     0\n",
       "store_id            0\n",
       "store_location      0\n",
       "product_id          0\n",
       "unit_price          0\n",
       "product_category    0\n",
       "product_type        0\n",
       "product_detail      0\n",
       "dtype: int64"
      ]
     },
     "execution_count": 17,
     "metadata": {},
     "output_type": "execute_result"
    }
   ],
   "source": [
    "# Check if any null values exists for the sales DataFrames\n",
    "df_sales.isna().sum()"
   ]
  },
  {
   "cell_type": "code",
   "execution_count": 21,
   "id": "d201eb08",
   "metadata": {},
   "outputs": [
    {
     "data": {
      "text/plain": [
       "station      0\n",
       "valid        0\n",
       "tmpc         0\n",
       "relh         0\n",
       "sped       312\n",
       "p01m         0\n",
       "dtype: int64"
      ]
     },
     "execution_count": 21,
     "metadata": {},
     "output_type": "execute_result"
    }
   ],
   "source": [
    "# Check if any null values exists for the weather DataFrames\n",
    "df_weather.isna().sum()"
   ]
  },
  {
   "cell_type": "code",
   "execution_count": null,
   "id": "97cb6208",
   "metadata": {},
   "outputs": [
    {
     "name": "stdout",
     "output_type": "stream",
     "text": [
      "<class 'pandas.core.frame.DataFrame'>\n",
      "RangeIndex: 149116 entries, 0 to 149115\n",
      "Data columns (total 12 columns):\n",
      " #   Column            Non-Null Count   Dtype         \n",
      "---  ------            --------------   -----         \n",
      " 0   transaction_date  149116 non-null  datetime64[ns]\n",
      " 1   transaction_time  149116 non-null  object        \n",
      " 2   transaction_qty   149116 non-null  int64         \n",
      " 3   store_location    149116 non-null  object        \n",
      " 4   unit_price        149116 non-null  float64       \n",
      " 5   product_category  149116 non-null  object        \n",
      " 6   product_type      149116 non-null  object        \n",
      " 7   product_detail    149116 non-null  object        \n",
      " 8   hour              149116 non-null  int64         \n",
      " 9   year              149116 non-null  int32         \n",
      " 10  month             149116 non-null  object        \n",
      " 11  day               149116 non-null  object        \n",
      "dtypes: datetime64[ns](1), float64(1), int32(1), int64(2), object(7)\n",
      "memory usage: 13.1+ MB\n"
     ]
    }
   ],
   "source": [
    "# info of the sales numerical data\n",
    "df_sales.info()"
   ]
  },
  {
   "cell_type": "code",
   "execution_count": 31,
   "id": "bc200acb",
   "metadata": {},
   "outputs": [
    {
     "name": "stdout",
     "output_type": "stream",
     "text": [
      "<class 'pandas.core.frame.DataFrame'>\n",
      "RangeIndex: 5500 entries, 0 to 5499\n",
      "Data columns (total 6 columns):\n",
      " #   Column   Non-Null Count  Dtype  \n",
      "---  ------   --------------  -----  \n",
      " 0   station  5500 non-null   object \n",
      " 1   valid    5500 non-null   object \n",
      " 2   tmpc     5500 non-null   float64\n",
      " 3   relh     5500 non-null   float64\n",
      " 4   sped     5188 non-null   float64\n",
      " 5   p01m     5500 non-null   object \n",
      "dtypes: float64(3), object(3)\n",
      "memory usage: 257.9+ KB\n"
     ]
    }
   ],
   "source": [
    "# info of the weather numerical data\n",
    "df_weather.info()"
   ]
  },
  {
   "cell_type": "code",
   "execution_count": 32,
   "id": "1b06ed9c",
   "metadata": {},
   "outputs": [],
   "source": [
    "# We have to create a datetime object in the weather DataFrames\n",
    "df_weather[\"date_times\"] = pd.to_datetime(df_weather[\"valid\"])"
   ]
  },
  {
   "cell_type": "code",
   "execution_count": 36,
   "id": "2b9c0b20",
   "metadata": {},
   "outputs": [],
   "source": [
    "# Dropping some columns that is not required for the analysis\n",
    "df_sales.drop(columns = [\"transaction_id\", \"store_id\", \"product_id\"], inplace = True)\n",
    "\n",
    "df_weather.drop(columns=\"valid\", inplace=True)"
   ]
  },
  {
   "cell_type": "code",
   "execution_count": 37,
   "id": "543deb49",
   "metadata": {},
   "outputs": [],
   "source": [
    "# add new column year, month, day & hour for the sales DataFrames\n",
    "df_sales[\"year\"] = df_sales[\"transaction_date\"].dt.year\n",
    "\n",
    "df_sales[\"month\"] = df_sales[\"transaction_date\"].dt.month_name()\n",
    "\n",
    "df_sales[\"day\"] = df_sales[\"transaction_date\"].dt.day_name()\n",
    "\n",
    "df_sales[\"hour\"] = df_sales[\"transaction_time\"].apply(lambda x: x.hour)"
   ]
  },
  {
   "cell_type": "code",
   "execution_count": 38,
   "id": "2c03dfb8",
   "metadata": {},
   "outputs": [],
   "source": [
    "# add new column year, month, day & hour for the weather DataFrames\n",
    "df_weather[\"year\"] = df_weather[\"date_times\"].dt.year\n",
    "\n",
    "df_weather[\"month\"] = df_weather[\"date_times\"].dt.month_name()\n",
    "\n",
    "df_weather[\"day\"] = df_weather[\"date_times\"].dt.day_name()\n",
    "\n",
    "df_weather[\"hour\"] = df_weather[\"date_times\"].apply(lambda x: x.hour)"
   ]
  },
  {
   "cell_type": "code",
   "execution_count": null,
   "id": "bb5fd9f9",
   "metadata": {},
   "outputs": [],
   "source": []
  }
 ],
 "metadata": {
  "kernelspec": {
   "display_name": ".env",
   "language": "python",
   "name": "python3"
  },
  "language_info": {
   "codemirror_mode": {
    "name": "ipython",
    "version": 3
   },
   "file_extension": ".py",
   "mimetype": "text/x-python",
   "name": "python",
   "nbconvert_exporter": "python",
   "pygments_lexer": "ipython3",
   "version": "3.12.3"
  }
 },
 "nbformat": 4,
 "nbformat_minor": 5
}

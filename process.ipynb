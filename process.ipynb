{
 "cells": [
  {
   "cell_type": "code",
   "execution_count": 1,
   "id": "a19e5f88",
   "metadata": {},
   "outputs": [
    {
     "name": "stderr",
     "output_type": "stream",
     "text": [
      "your 131072x1 screen size is bogus. expect trouble\n",
      "25/05/04 20:08:13 WARN Utils: Your hostname, mirs-pc resolves to a loopback address: 127.0.1.1; using 10.255.255.254 instead (on interface lo)\n",
      "25/05/04 20:08:13 WARN Utils: Set SPARK_LOCAL_IP if you need to bind to another address\n",
      "Setting default log level to \"WARN\".\n",
      "To adjust logging level use sc.setLogLevel(newLevel). For SparkR, use setLogLevel(newLevel).\n",
      "25/05/04 20:08:14 WARN NativeCodeLoader: Unable to load native-hadoop library for your platform... using builtin-java classes where applicable\n"
     ]
    }
   ],
   "source": [
    "from pyspark.sql import SparkSession\n",
    "from pyspark.sql.functions import avg, col, cos, date_format, lit, sin, sum, when, to_date, to_timestamp, hour\n",
    "\n",
    "spark = SparkSession.builder.appName(\"coffee\").getOrCreate()"
   ]
  },
  {
   "cell_type": "code",
   "execution_count": 2,
   "id": "5f12a342",
   "metadata": {},
   "outputs": [
    {
     "data": {
      "text/plain": [
       "[Row(transaction_id='1', transaction_date='1/1/2023', transaction_time='7:06:11', transaction_qty='2', store_id='5', store_location='Lower Manhattan', product_id='32', unit_price='3', product_category='Coffee', product_type='Gourmet brewed coffee', product_detail='Ethiopia Rg'),\n",
       " Row(transaction_id='2', transaction_date='1/1/2023', transaction_time='7:08:56', transaction_qty='2', store_id='5', store_location='Lower Manhattan', product_id='57', unit_price='3.1', product_category='Tea', product_type='Brewed Chai tea', product_detail='Spicy Eye Opener Chai Lg'),\n",
       " Row(transaction_id='3', transaction_date='1/1/2023', transaction_time='7:14:04', transaction_qty='2', store_id='5', store_location='Lower Manhattan', product_id='59', unit_price='4.5', product_category='Drinking Chocolate', product_type='Hot chocolate', product_detail='Dark chocolate Lg'),\n",
       " Row(transaction_id='4', transaction_date='1/1/2023', transaction_time='7:20:24', transaction_qty='1', store_id='5', store_location='Lower Manhattan', product_id='22', unit_price='2', product_category='Coffee', product_type='Drip coffee', product_detail='Our Old Time Diner Blend Sm'),\n",
       " Row(transaction_id='5', transaction_date='1/1/2023', transaction_time='7:22:41', transaction_qty='2', store_id='5', store_location='Lower Manhattan', product_id='57', unit_price='3.1', product_category='Tea', product_type='Brewed Chai tea', product_detail='Spicy Eye Opener Chai Lg')]"
      ]
     },
     "execution_count": 2,
     "metadata": {},
     "output_type": "execute_result"
    }
   ],
   "source": [
    "# Load & Check the sales DataFrames\n",
    "df_sales = spark.read.csv(\"./data/Coffee Shop Sales.csv\", header=True)\n",
    "df_sales.head(5)"
   ]
  },
  {
   "cell_type": "code",
   "execution_count": 3,
   "id": "00243178",
   "metadata": {},
   "outputs": [
    {
     "data": {
      "text/plain": [
       "[Row(station='NYC', valid='2023-01-01 00:06', tmpc='10.00', relh='92.80', sped='0.00', p01m='T'),\n",
       " Row(station='NYC', valid='2023-01-01 00:18', tmpc='10.00', relh='95.98', sped='3.45', p01m='T'),\n",
       " Row(station='NYC', valid='2023-01-01 00:31', tmpc='10.00', relh='92.80', sped='0.00', p01m='0.25'),\n",
       " Row(station='NYC', valid='2023-01-01 00:44', tmpc='10.00', relh='95.98', sped='0.00', p01m='0.51'),\n",
       " Row(station='NYC', valid='2023-01-01 00:49', tmpc='10.00', relh='93.50', sped='0.00', p01m='0.51')]"
      ]
     },
     "execution_count": 3,
     "metadata": {},
     "output_type": "execute_result"
    }
   ],
   "source": [
    "# Load & Check the weather DataFrames\n",
    "df_weather = spark.read.csv(\"./data/NYC.csv\", header=True)\n",
    "df_weather.head(5)"
   ]
  },
  {
   "cell_type": "code",
   "execution_count": 4,
   "id": "08d42903",
   "metadata": {},
   "outputs": [
    {
     "name": "stdout",
     "output_type": "stream",
     "text": [
      "+--------------+----------------+----------------+---------------+--------+--------------+----------+----------+----------------+------------+--------------+\n",
      "|transaction_id|transaction_date|transaction_time|transaction_qty|store_id|store_location|product_id|unit_price|product_category|product_type|product_detail|\n",
      "+--------------+----------------+----------------+---------------+--------+--------------+----------+----------+----------------+------------+--------------+\n",
      "|             0|               0|               0|              0|       0|             0|         0|         0|               0|           0|             0|\n",
      "+--------------+----------------+----------------+---------------+--------+--------------+----------+----------+----------------+------------+--------------+\n",
      "\n"
     ]
    }
   ],
   "source": [
    "# Check if any null values exists for the sales DataFrames\n",
    "df_sales_null_count = df_sales.select([sum(when(col(c).isNull(), 1).otherwise(0)).alias(c) for c in df_sales.columns])\n",
    "df_sales_null_count.show()"
   ]
  },
  {
   "cell_type": "code",
   "execution_count": 5,
   "id": "d201eb08",
   "metadata": {},
   "outputs": [
    {
     "name": "stdout",
     "output_type": "stream",
     "text": [
      "+-------+-----+----+----+----+----+\n",
      "|station|valid|tmpc|relh|sped|p01m|\n",
      "+-------+-----+----+----+----+----+\n",
      "|      0|    0|   0|   0| 312|   0|\n",
      "+-------+-----+----+----+----+----+\n",
      "\n"
     ]
    }
   ],
   "source": [
    "# Check if any null values exists for the weather DataFrames\n",
    "df_weather_null_count = df_weather.select([sum(when(col(c).isNull(), 1).otherwise(0)).alias(c) for c in df_weather.columns])\n",
    "df_weather_null_count.show()"
   ]
  },
  {
   "cell_type": "code",
   "execution_count": 6,
   "id": "97cb6208",
   "metadata": {},
   "outputs": [],
   "source": [
    "# fill the wind speed null filed with 0\n",
    "df_weather = df_weather.fillna({\"sped\": 0})\n",
    "\n",
    "# There are some trace reports annotated with T, lets replace it with 0\n",
    "df_weather = df_weather.withColumn(\n",
    "    \"p01m\",\n",
    "    when(col(\"p01m\") == 'T', 0.00).otherwise(col(\"p01m\"))\n",
    ")"
   ]
  },
  {
   "cell_type": "code",
   "execution_count": 7,
   "id": "2b9c0b20",
   "metadata": {},
   "outputs": [
    {
     "data": {
      "text/plain": [
       "DataFrame[transaction_date: string, transaction_time: string, transaction_qty: string, store_id: string, store_location: string, product_id: string, unit_price: string, product_category: string, product_type: string, product_detail: string]"
      ]
     },
     "execution_count": 7,
     "metadata": {},
     "output_type": "execute_result"
    }
   ],
   "source": [
    "# Dropping some columns that is not required for the analysis\n",
    "df_sales.drop(\"transaction_id\")"
   ]
  },
  {
   "cell_type": "code",
   "execution_count": 8,
   "id": "543deb49",
   "metadata": {},
   "outputs": [],
   "source": [
    "# add new column date, time & hour for the sales DataFrames\n",
    "df_sales = df_sales.withColumn(\"date\", to_date(\"transaction_date\", \"M/d/yyyy\")).drop(\"transaction_date\")\n",
    "\n",
    "df_sales = df_sales.withColumn(\"time\", to_timestamp(\"transaction_time\", \"H:mm:ss\")).drop(\"transaction_time\")\n",
    "\n",
    "df_sales = df_sales.withColumn(\"hour\", hour(\"time\")).drop(\"time\")"
   ]
  },
  {
   "cell_type": "code",
   "execution_count": 9,
   "id": "59a5ead2",
   "metadata": {},
   "outputs": [
    {
     "data": {
      "text/plain": [
       "[Row(transaction_id='1', transaction_qty='2', store_id='5', store_location='Lower Manhattan', product_id='32', unit_price='3', product_category='Coffee', product_type='Gourmet brewed coffee', product_detail='Ethiopia Rg', date=datetime.date(2023, 1, 1), hour=7),\n",
       " Row(transaction_id='2', transaction_qty='2', store_id='5', store_location='Lower Manhattan', product_id='57', unit_price='3.1', product_category='Tea', product_type='Brewed Chai tea', product_detail='Spicy Eye Opener Chai Lg', date=datetime.date(2023, 1, 1), hour=7),\n",
       " Row(transaction_id='3', transaction_qty='2', store_id='5', store_location='Lower Manhattan', product_id='59', unit_price='4.5', product_category='Drinking Chocolate', product_type='Hot chocolate', product_detail='Dark chocolate Lg', date=datetime.date(2023, 1, 1), hour=7),\n",
       " Row(transaction_id='4', transaction_qty='1', store_id='5', store_location='Lower Manhattan', product_id='22', unit_price='2', product_category='Coffee', product_type='Drip coffee', product_detail='Our Old Time Diner Blend Sm', date=datetime.date(2023, 1, 1), hour=7),\n",
       " Row(transaction_id='5', transaction_qty='2', store_id='5', store_location='Lower Manhattan', product_id='57', unit_price='3.1', product_category='Tea', product_type='Brewed Chai tea', product_detail='Spicy Eye Opener Chai Lg', date=datetime.date(2023, 1, 1), hour=7)]"
      ]
     },
     "execution_count": 9,
     "metadata": {},
     "output_type": "execute_result"
    }
   ],
   "source": [
    "df_sales.head(5)"
   ]
  },
  {
   "cell_type": "code",
   "execution_count": 10,
   "id": "64249989",
   "metadata": {},
   "outputs": [],
   "source": [
    "# add new column date, time & hour for the weather DataFrames\n",
    "df_weather = df_weather.withColumn(\"timestamp\", to_timestamp(\"valid\", \"yyyy-MM-dd HH:mm\")).drop(\"valid\")\n",
    "\n",
    "df_weather = df_weather.withColumn(\"date\", to_date(\"timestamp\"))\n",
    "\n",
    "df_weather = df_weather.withColumn(\"hour\", hour(\"timestamp\")).drop(\"timestamp\")"
   ]
  },
  {
   "cell_type": "code",
   "execution_count": 11,
   "id": "ed032fe9",
   "metadata": {},
   "outputs": [
    {
     "data": {
      "text/plain": [
       "Row(station='NYC', tmpc='10.00', relh='92.80', sped='0.00', p01m='0.0', date=datetime.date(2023, 1, 1), hour=0)"
      ]
     },
     "execution_count": 11,
     "metadata": {},
     "output_type": "execute_result"
    }
   ],
   "source": [
    "df_weather.head()"
   ]
  },
  {
   "cell_type": "code",
   "execution_count": 13,
   "id": "2b842c9f",
   "metadata": {},
   "outputs": [],
   "source": [
    "# We will take a subset of sales data only total sales per hour basis.\n",
    "df_sales_subset = df_sales.select(\"store_id\", \"product_id\", \"date\", \"hour\", \"unit_price\")\n",
    "\n",
    "df_sales_per_hour = df_sales_subset.groupBy(\"store_id\", \"product_id\", \"date\", \"hour\").agg(\n",
    "    sum(\"unit_price\").alias(\"total_sales\")\n",
    ")"
   ]
  },
  {
   "cell_type": "code",
   "execution_count": 14,
   "id": "47fd3e5b",
   "metadata": {},
   "outputs": [],
   "source": [
    "# We will also take hourly mean temperature, relative humidity\n",
    "df_weather = df_weather.drop(\"station\")\n",
    "df_weather_per_hour = df_weather.groupBy(\"date\", \"hour\").agg(\n",
    "    avg(\"tmpc\").alias(\"avg_tempc\"),\n",
    "    avg(\"relh\").alias(\"avg_relh\")\n",
    ")"
   ]
  },
  {
   "cell_type": "code",
   "execution_count": 15,
   "id": "14968352",
   "metadata": {},
   "outputs": [],
   "source": [
    "# join two dataframe b date and hour\n",
    "df_sales_weather = df_sales_per_hour.join(\n",
    "    df_weather_per_hour,\n",
    "    (df_sales_per_hour.date == df_weather_per_hour.date) & (df_sales_per_hour.hour == df_weather_per_hour.hour),\n",
    "    \"left\"\n",
    ").select(\n",
    "    df_sales_per_hour.store_id,\n",
    "    df_sales_per_hour.product_id,\n",
    "    df_sales_per_hour.total_sales,\n",
    "    df_weather_per_hour.avg_tempc,\n",
    "    df_weather_per_hour.avg_relh,\n",
    "    df_sales_per_hour.hour,\n",
    "    df_sales_per_hour.date\n",
    ")\n",
    "\n",
    "df_sales_weather = df_sales_weather.withColumn(\"day\", date_format(\"date\", \"EEEE\"))"
   ]
  },
  {
   "cell_type": "code",
   "execution_count": 16,
   "id": "a61c4a2d",
   "metadata": {},
   "outputs": [
    {
     "name": "stderr",
     "output_type": "stream",
     "text": [
      "                                                                                \r"
     ]
    }
   ],
   "source": [
    "df_sales_weather.write.mode(\"overwrite\").parquet(\"./data/sales_weather/\")"
   ]
  }
 ],
 "metadata": {
  "kernelspec": {
   "display_name": ".env",
   "language": "python",
   "name": "python3"
  },
  "language_info": {
   "codemirror_mode": {
    "name": "ipython",
    "version": 3
   },
   "file_extension": ".py",
   "mimetype": "text/x-python",
   "name": "python",
   "nbconvert_exporter": "python",
   "pygments_lexer": "ipython3",
   "version": "3.12.3"
  }
 },
 "nbformat": 4,
 "nbformat_minor": 5
}
